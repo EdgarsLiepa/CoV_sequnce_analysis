{
 "cells": [
  {
   "cell_type": "code",
   "execution_count": null,
   "id": "94abdd48",
   "metadata": {},
   "outputs": [],
   "source": [
    "from itertools import permutations\n"
   ]
  },
  {
   "cell_type": "code",
   "execution_count": 1,
   "id": "3ea56ca1",
   "metadata": {},
   "outputs": [],
   "source": [
    "from transformers import AutoTokenizer, EsmForSequenceClassification\n",
    "import torch"
   ]
  },
  {
   "cell_type": "code",
   "execution_count": 2,
   "id": "3dd2e57c",
   "metadata": {},
   "outputs": [
    {
     "name": "stderr",
     "output_type": "stream",
     "text": [
      "Some weights of EsmForProteinFolding were not initialized from the model checkpoint at facebook/esmfold_v1 and are newly initialized: ['esm.contact_head.regression.weight', 'esm.contact_head.regression.bias']\n",
      "You should probably TRAIN this model on a down-stream task to be able to use it for predictions and inference.\n"
     ]
    }
   ],
   "source": [
    "from transformers import AutoTokenizer, EsmForProteinFolding\n",
    "\n",
    "model = EsmForProteinFolding.from_pretrained(\"facebook/esmfold_v1\")\n",
    "\n",
    "tokenizer = AutoTokenizer.from_pretrained(\"facebook/esmfold_v1\")"
   ]
  },
  {
   "cell_type": "code",
   "execution_count": 12,
   "id": "83d88cde",
   "metadata": {},
   "outputs": [],
   "source": [
    "import pandas as pd\n",
    "import py3Dmol\n",
    "import os\n",
    "\n",
    "\n",
    "# Function to visualize a PDB file\n",
    "def visualize_pdb(pdb, n_term_coord, c_term_coord):\n",
    "    view = py3Dmol.view(js='https://3dmol.org/build/3Dmol.js', width=800, height=400)\n",
    "    view.addModel(open(pdb, 'r').read(), 'pdb')\n",
    "    \n",
    "    # Set N and C terminal spheres\n",
    "    view.addSphere({'center': {'x': n_term_coord[0], 'y': n_term_coord[1], 'z': n_term_coord[2]}, 'radius': 1.0, 'color':'red'})\n",
    "    view.addSphere({'center': {'x': c_term_coord[0], 'y': c_term_coord[1], 'z': c_term_coord[2]}, 'radius': 1.0, 'color':'blue'})\n",
    "\n",
    "    view.setStyle({'model': -1}, {\"cartoon\": {'color': 'spectrum'}})\n",
    "    view.zoomTo()\n",
    "    view.show()\n"
   ]
  },
  {
   "cell_type": "code",
   "execution_count": 9,
   "id": "44e65c62",
   "metadata": {},
   "outputs": [],
   "source": [
    "# Use the PDB parser to load the PDB file\n",
    "\n",
    "def  visualizeDistanceInPDB():\n",
    "    parser = PDBParser()\n",
    "    structure = parser.get_structure('shortest', 'longLinkers/GSGTGSGPLQPELDSFKEELDKYFKNHTSPDVGSGTEIYQAGSTPCNGVEGFGSGPSKPSKRSFIEDLLFGSGTGSG.pdb')\n",
    "\n",
    "    distance, n_term_coord, c_term_coord = calc_distance(structure)\n",
    "    print(distance)\n",
    "\n",
    "    # Plotting with 3Dmol\n",
    "    view = py3Dmol.view(js='https://3dmol.org/build/3Dmol.js', width=800, height=400)\n",
    "    view.addModel(open('longLinkers/GSGTGSGPLQPELDSFKEELDKYFKNHTSPDVGSGTEIYQAGSTPCNGVEGFGSGPSKPSKRSFIEDLLFGSGTGSG.pdb', 'r').read(), 'pdb')\n",
    "\n",
    "    # Set N and C terminal spheres\n",
    "    view.addSphere({'center': {'x': n_term_coord[0].tolist(), 'y': n_term_coord[1].tolist(), 'z': n_term_coord[2].tolist()}, 'radius': 1.0, 'color':'red'})\n",
    "    view.addSphere({'center': {'x': c_term_coord[0].tolist(), 'y': c_term_coord[1].tolist(), 'z': c_term_coord[2].tolist()}, 'radius': 1.0, 'color':'blue'})\n",
    "\n",
    "    view.setStyle({'model': -1}, {\"cartoon\": {'color': 'spectrum'}})\n",
    "    view.zoomTo()\n",
    "    view.show()"
   ]
  },
  {
   "cell_type": "code",
   "execution_count": 3,
   "id": "6c1e0f22",
   "metadata": {},
   "outputs": [],
   "source": [
    "from transformers.models.esm.openfold_utils.protein import to_pdb, Protein as OFProtein\n",
    "from transformers.models.esm.openfold_utils.feats import atom14_to_atom37\n",
    "\n",
    "def convert_outputs_to_pdb(outputs):\n",
    "    final_atom_positions = atom14_to_atom37(outputs[\"positions\"][-1], outputs)\n",
    "    outputs = {k: v.detach().to(\"cpu\").numpy() for k, v in outputs.items()}\n",
    "    final_atom_positions = final_atom_positions.detach().cpu().numpy()\n",
    "    final_atom_mask = outputs[\"atom37_atom_exists\"]\n",
    "    pdbs = []\n",
    "    for i in range(outputs[\"aatype\"].shape[0]):\n",
    "        aa = outputs[\"aatype\"][i]\n",
    "        pred_pos = final_atom_positions[i]\n",
    "        mask = final_atom_mask[i]\n",
    "        resid = outputs[\"residue_index\"][i] + 1\n",
    "        pred = OFProtein(\n",
    "            aatype=aa,\n",
    "            atom_positions=pred_pos,\n",
    "            atom_mask=mask,\n",
    "            residue_index=resid,\n",
    "            b_factors=outputs[\"plddt\"][i],\n",
    "            chain_index=outputs[\"chain_index\"][i] if \"chain_index\" in outputs else None,\n",
    "        )\n",
    "        pdbs.append(to_pdb(pred))\n",
    "    return pdbs"
   ]
  },
  {
   "cell_type": "code",
   "execution_count": 43,
   "id": "ceffef40",
   "metadata": {},
   "outputs": [],
   "source": [
    "from Bio.PDB import PDBParser\n",
    "import numpy as np\n",
    "\n",
    "def calc_distance_and_return_coordinates(pdb_file):\n",
    "    parser = PDBParser(QUIET=True)\n",
    "    structure = parser.get_structure('my_protein', pdb_file)\n",
    "    model = pdb_file[0]  # assuming only one model in the PDB file\n",
    "    chain = pdb_file['A']  # replace with your chain ID\n",
    "\n",
    "    # Get the residue numbers for the first (N-term) and last (C-term) residues\n",
    "    res_keys = sorted(list(chain.child_dict.keys()))\n",
    "    n_term_residue = chain[res_keys[0]]\n",
    "    c_term_residue = chain[res_keys[-1]]\n",
    "\n",
    "    # Get the coordinates for the N and C atoms\n",
    "    n_term_coord = n_term_residue['N'].get_coord()\n",
    "    c_term_coord = c_term_residue['C'].get_coord()\n",
    "\n",
    "    # Calculate the distance\n",
    "    distance = np.linalg.norm(c_term_coord - n_term_coord)\n",
    "    return distance, n_term_coord.tolist(), c_term_coord.tolist()\n"
   ]
  },
  {
   "cell_type": "code",
   "execution_count": 5,
   "id": "76e6e0a3",
   "metadata": {},
   "outputs": [],
   "source": [
    "inputs1 = tokenizer([\"GSGTGSGDKYFKNHTSPDVDLGSGTGSGLFRKSNLKPFERDISTEGSGTGSGPSKRSFIEDLLFNKVGSGTGSG\"], return_tensors=\"pt\", add_special_tokens=False)['input_ids']  # A tiny random peptide\n",
    "inputs2 = tokenizer([\"GSGTGSGLFRKSNLKPFERDISTEGSGTGSGPSKRSFIEDLLFNKVGSGTGSGDKYFKNHTSPDVDLGSGTGSG\"], return_tensors=\"pt\", add_special_tokens=False)['input_ids']  # A tiny random peptide\n",
    "inputs3 = tokenizer([\"GSGTGSGPSKRSFIEDLLFNKVGSGTGSGDKYFKNHTSPDVDLGSGTGSGLFRKSNLKPFERDISTEGSGTGSG\"], return_tensors=\"pt\", add_special_tokens=False)['input_ids']  # A tiny random peptide\n",
    "\n",
    "outputs1 = model(inputs1)\n",
    "outputs2 = model(inputs2)\n",
    "outputs3 = model(inputs3)\n",
    "\n",
    "folded_positions1 = outputs1.positions\n",
    "folded_positions2 = outputs2.positions\n",
    "folded_positions3 = outputs3.positions"
   ]
  },
  {
   "cell_type": "code",
   "execution_count": 44,
   "id": "6641b067",
   "metadata": {},
   "outputs": [],
   "source": [
    "pdb1 = convert_outputs_to_pdb(outputs1)\n",
    "pdb2 = convert_outputs_to_pdb(outputs2)\n",
    "pdb3 = convert_outputs_to_pdb(outputs3)"
   ]
  },
  {
   "cell_type": "code",
   "execution_count": 45,
   "id": "96b514d3",
   "metadata": {},
   "outputs": [],
   "source": [
    "with open(\"output_structure.pdb\", \"w\") as f:\n",
    "    f.write(\"\".join(pdb1))"
   ]
  },
  {
   "cell_type": "code",
   "execution_count": 46,
   "id": "64ebd479",
   "metadata": {
    "scrolled": true
   },
   "outputs": [
    {
     "ename": "TypeError",
     "evalue": "string indices must be integers",
     "output_type": "error",
     "traceback": [
      "\u001b[0;31m---------------------------------------------------------------------------\u001b[0m",
      "\u001b[0;31mTypeError\u001b[0m                                 Traceback (most recent call last)",
      "Cell \u001b[0;32mIn[46], line 1\u001b[0m\n\u001b[0;32m----> 1\u001b[0m distance, n_term_coord, c_term_coor \u001b[38;5;241m=\u001b[39m \u001b[43mcalc_distance_and_return_coordinates\u001b[49m\u001b[43m(\u001b[49m\u001b[38;5;124;43m\"\u001b[39;49m\u001b[38;5;124;43moutput_structure.pdb\u001b[39;49m\u001b[38;5;124;43m\"\u001b[39;49m\u001b[43m)\u001b[49m\n\u001b[1;32m      2\u001b[0m n_term_coord \u001b[38;5;241m=\u001b[39m \u001b[38;5;28meval\u001b[39m(row[\u001b[38;5;124m'\u001b[39m\u001b[38;5;124mN-Term Coords\u001b[39m\u001b[38;5;124m'\u001b[39m])\n\u001b[1;32m      3\u001b[0m c_term_coord \u001b[38;5;241m=\u001b[39m \u001b[38;5;28meval\u001b[39m(row[\u001b[38;5;124m'\u001b[39m\u001b[38;5;124mC-Term Coords\u001b[39m\u001b[38;5;124m'\u001b[39m])\n",
      "Cell \u001b[0;32mIn[43], line 8\u001b[0m, in \u001b[0;36mcalc_distance_and_return_coordinates\u001b[0;34m(pdb_file)\u001b[0m\n\u001b[1;32m      6\u001b[0m structure \u001b[38;5;241m=\u001b[39m parser\u001b[38;5;241m.\u001b[39mget_structure(\u001b[38;5;124m'\u001b[39m\u001b[38;5;124mmy_protein\u001b[39m\u001b[38;5;124m'\u001b[39m, pdb_file)\n\u001b[1;32m      7\u001b[0m model \u001b[38;5;241m=\u001b[39m pdb_file[\u001b[38;5;241m0\u001b[39m]  \u001b[38;5;66;03m# assuming only one model in the PDB file\u001b[39;00m\n\u001b[0;32m----> 8\u001b[0m chain \u001b[38;5;241m=\u001b[39m \u001b[43mpdb_file\u001b[49m\u001b[43m[\u001b[49m\u001b[38;5;124;43m'\u001b[39;49m\u001b[38;5;124;43mA\u001b[39;49m\u001b[38;5;124;43m'\u001b[39;49m\u001b[43m]\u001b[49m  \u001b[38;5;66;03m# replace with your chain ID\u001b[39;00m\n\u001b[1;32m     10\u001b[0m \u001b[38;5;66;03m# Get the residue numbers for the first (N-term) and last (C-term) residues\u001b[39;00m\n\u001b[1;32m     11\u001b[0m res_keys \u001b[38;5;241m=\u001b[39m \u001b[38;5;28msorted\u001b[39m(\u001b[38;5;28mlist\u001b[39m(chain\u001b[38;5;241m.\u001b[39mchild_dict\u001b[38;5;241m.\u001b[39mkeys()))\n",
      "\u001b[0;31mTypeError\u001b[0m: string indices must be integers"
     ]
    }
   ],
   "source": [
    "distance, n_term_coord, c_term_coor = calc_distance_and_return_coordinates(\"output_structure.pdb\")\n",
    "n_term_coord = eval(row['N-Term Coords'])\n",
    "c_term_coord = eval(row['C-Term Coords'])\n",
    "visualize_pdb(pdb1, n_term_coord, c_term_coor)"
   ]
  },
  {
   "cell_type": "code",
   "execution_count": null,
   "id": "4d5138a7",
   "metadata": {},
   "outputs": [],
   "source": [
    "def  visualizeDistanceInPDB()\n",
    "    parser = PDBParser()\n",
    "    structure = parser.get_structure('shortest', 'longLinkers/GSGTGSGPLQPELDSFKEELDKYFKNHTSPDVGSGTEIYQAGSTPCNGVEGFGSGPSKPSKRSFIEDLLFGSGTGSG.pdb')\n",
    "\n",
    "    distance, n_term_coord, c_term_coord = calc_distance(structure)\n",
    "    print(distance)\n",
    "\n",
    "    # Plotting with 3Dmol\n",
    "    view = py3Dmol.view(js='https://3dmol.org/build/3Dmol.js', width=800, height=400)\n",
    "    view.addModel(open('longLinkers/GSGTGSGPLQPELDSFKEELDKYFKNHTSPDVGSGTEIYQAGSTPCNGVEGFGSGPSKPSKRSFIEDLLFGSGTGSG.pdb', 'r').read(), 'pdb')\n",
    "\n",
    "    # Set N and C terminal spheres\n",
    "    view.addSphere({'center': {'x': n_term_coord[0].tolist(), 'y': n_term_coord[1].tolist(), 'z': n_term_coord[2].tolist()}, 'radius': 1.0, 'color':'red'})\n",
    "    view.addSphere({'center': {'x': c_term_coord[0].tolist(), 'y': c_term_coord[1].tolist(), 'z': c_term_coord[2].tolist()}, 'radius': 1.0, 'color':'blue'})\n",
    "\n",
    "    view.setStyle({'model': -1}, {\"cartoon\": {'color': 'spectrum'}})\n",
    "    view.zoomTo()\n",
    "    view.show()"
   ]
  },
  {
   "cell_type": "code",
   "execution_count": null,
   "id": "ed474bc8",
   "metadata": {},
   "outputs": [],
   "source": [
    "inputs1 = tokenizer([\"GSGTGSGDKYFKNHTSPDVDLGSGTGSGLFRKSNLKPFERDISTEGSGTGSGPSKRSFIEDLLFNKVGSGTGSG\"], return_tensors=\"pt\", add_special_tokens=False)['input_ids']  # A tiny random peptide\n",
    "inputs2 = tokenizer([\"GSGTGSGLFRKSNLKPFERDISTEGSGTGSGPSKRSFIEDLLFNKVGSGTGSGDKYFKNHTSPDVDLGSGTGSG\"], return_tensors=\"pt\", add_special_tokens=False)['input_ids']  # A tiny random peptide\n",
    "inputs3 = tokenizer([\"GSGTGSGPSKRSFIEDLLFNKVGSGTGSGDKYFKNHTSPDVDLGSGTGSGLFRKSNLKPFERDISTEGSGTGSG\"], return_tensors=\"pt\", add_special_tokens=False)['input_ids']  # A tiny random peptide\n",
    "\n",
    "outputs1 = model(inputs1)\n",
    "outputs2 = model(inputs2)\n",
    "outputs3 = model(inputs3)\n",
    "\n",
    "folded_positions1 = outputs1.positions\n",
    "folded_positions2 = outputs2.positions\n",
    "folded_positions3 = outputs3.positions"
   ]
  }
 ],
 "metadata": {
  "kernelspec": {
   "display_name": "Python 3 (ipykernel)",
   "language": "python",
   "name": "python3"
  },
  "language_info": {
   "codemirror_mode": {
    "name": "ipython",
    "version": 3
   },
   "file_extension": ".py",
   "mimetype": "text/x-python",
   "name": "python",
   "nbconvert_exporter": "python",
   "pygments_lexer": "ipython3",
   "version": "3.9.16"
  }
 },
 "nbformat": 4,
 "nbformat_minor": 5
}
