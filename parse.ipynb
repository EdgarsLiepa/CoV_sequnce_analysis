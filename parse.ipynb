{
 "cells": [
  {
   "cell_type": "code",
   "execution_count": 13,
   "metadata": {},
   "outputs": [],
   "source": [
    "# Author: Edgars Liepa\n",
    "# Date: 6.5.22 \n",
    "# Descripton: Create a list of amino acid substitutions from multiple sequences \n",
    "# in single fasta file.\n",
    "# Programm firstly creates pairvise allignment to reference sequnce \n",
    "# and then counts changed positions\n",
    "# \n",
    "# Dependencies: BioPython "
   ]
  },
  {
   "cell_type": "code",
   "execution_count": 14,
   "metadata": {},
   "outputs": [],
   "source": [
    "from Bio import SeqIO\n",
    "from Bio import motifs\n",
    "from datetime import datetime"
   ]
  },
  {
   "cell_type": "code",
   "execution_count": 9,
   "metadata": {},
   "outputs": [],
   "source": [
    "from Bio import AlignIO\n",
    "records = list(SeqIO.parse(\"allprot0429/sub_nProt.aln\", \"fasta\"))\n",
    "align = AlignIO.read(\"allprot0429/sub_nProt.aln\", \"fasta\")"
   ]
  },
  {
   "cell_type": "code",
   "execution_count": null,
   "metadata": {},
   "outputs": [],
   "source": [
    "# This is my reference\n",
    "print(records[0].id)  # first record\n",
    "print(records[0].description)"
   ]
  },
  {
   "cell_type": "code",
   "execution_count": 5,
   "metadata": {},
   "outputs": [
    {
     "data": {
      "text/plain": [
       "Seq('MSDNGPQNQRNAPRITFGGPSDSTGSNQNGERSGARSKQRRPQGLPNNTASWFT...QA*')"
      ]
     },
     "execution_count": 5,
     "metadata": {},
     "output_type": "execute_result"
    }
   ],
   "source": [
    "# records[0].features\n",
    "\n",
    "records[0].seq"
   ]
  },
  {
   "cell_type": "code",
   "execution_count": 6,
   "metadata": {},
   "outputs": [],
   "source": [
    "instances = []\n",
    "for i in range (0, len(records)):\n",
    "    instances.append(records)"
   ]
  },
  {
   "cell_type": "code",
   "execution_count": 10,
   "metadata": {},
   "outputs": [],
   "source": [
    "substitutions = align.substitutions"
   ]
  },
  {
   "cell_type": "code",
   "execution_count": 44,
   "metadata": {},
   "outputs": [
    {
     "ename": "",
     "evalue": "",
     "output_type": "error",
     "traceback": [
      "\u001b[1;31mCanceled future for execute_request message before replies were done"
     ]
    },
    {
     "ename": "",
     "evalue": "",
     "output_type": "error",
     "traceback": [
      "\u001b[1;31mThe Kernel crashed while executing code in the the current cell or a previous cell. Please review the code in the cell(s) to identify a possible cause of the failure. Click <a href='https://aka.ms/vscodeJupyterKernelCrash'>here</a> for more info. View Jupyter <a href='command:jupyter.viewOutput'>log</a> for further details."
     ]
    }
   ],
   "source": [
    "m = motifs.create(instances)\n",
    "\n",
    "m.weblogo(\"mymotif.png\")"
   ]
  },
  {
   "cell_type": "code",
   "execution_count": 40,
   "metadata": {},
   "outputs": [
    {
     "name": "stdout",
     "output_type": "stream",
     "text": [
      "     *     A     D     E     F     G    H     I     K     L     M     N     P     Q     R     S     T     V    W     Y\n",
      "* 15.0   0.0   0.0   0.0   0.0   0.0  0.0   0.0   0.0   0.0   0.0   0.0   0.0   0.0   0.0   0.0   0.0   0.0  0.0   0.0\n",
      "A  0.0 545.0   0.0   0.0   0.0   0.0  0.0   0.0   0.0   0.0   0.0   0.0   0.0   0.0   0.0   0.0   2.5   2.5  0.0   0.0\n",
      "D  0.0   0.0 360.0   0.0   0.0   0.0  0.0   0.0   0.0   0.0   0.0   0.0   0.0   0.0   0.0   0.0   0.0   0.0  0.0   0.0\n",
      "E  0.0   0.0   0.0 180.0   0.0   0.0  0.0   0.0   0.0   0.0   0.0   0.0   0.0   0.0   0.0   0.0   0.0   0.0  0.0   0.0\n",
      "F  0.0   0.0   0.0   0.0 195.0   0.0  0.0   0.0   0.0   0.0   0.0   0.0   0.0   0.0   0.0   0.0   0.0   0.0  0.0   0.0\n",
      "G  0.0   0.0   0.0   0.0   0.0 640.0  0.0   0.0   0.0   0.0   0.0   0.0   0.0   0.0   2.5   0.0   0.0   0.0  0.0   0.0\n",
      "H  0.0   0.0   0.0   0.0   0.0   0.0 60.0   0.0   0.0   0.0   0.0   0.0   0.0   0.0   0.0   0.0   0.0   0.0  0.0   0.0\n",
      "I  0.0   0.0   0.0   0.0   0.0   0.0  0.0 210.0   0.0   0.0   2.5   0.0   0.0   0.0   0.0   0.0   0.0   0.0  0.0   0.0\n",
      "K  0.0   0.0   0.0   0.0   0.0   0.0  0.0   0.0 465.0   0.0   0.0   0.0   0.0   0.0   2.5   0.0   0.0   0.0  0.0   0.0\n",
      "L  0.0   0.0   0.0   0.0   0.0   0.0  0.0   0.0   0.0 405.0   0.0   0.0   2.5   0.0   0.0   0.0   0.0   0.0  0.0   0.0\n",
      "M  0.0   0.0   0.0   0.0   0.0   0.0  0.0   2.5   0.0   0.0 100.0   0.0   0.0   0.0   0.0   0.0   0.0   0.0  0.0   0.0\n",
      "N  0.0   0.0   0.0   0.0   0.0   0.0  0.0   0.0   0.0   0.0   0.0 330.0   0.0   0.0   0.0   2.5   0.0   0.0  0.0   0.0\n",
      "P  0.0   0.0   0.0   0.0   0.0   0.0  0.0   0.0   0.0   2.5   0.0   0.0 410.0   0.0   0.0   2.5   0.0   0.0  0.0   0.0\n",
      "Q  0.0   0.0   0.0   0.0   0.0   0.0  0.0   0.0   0.0   0.0   0.0   0.0   0.0 525.0   0.0   0.0   0.0   0.0  0.0   0.0\n",
      "R  0.0   0.0   0.0   0.0   0.0   2.5  0.0   0.0   2.5   0.0   0.0   0.0   0.0   0.0 430.0   0.0   0.0   0.0  0.0   0.0\n",
      "S  0.0   0.0   0.0   0.0   0.0   0.0  0.0   0.0   0.0   0.0   0.0   2.5   2.5   0.0   0.0 550.0   0.0   0.0  0.0   0.0\n",
      "T  0.0   2.5   0.0   0.0   0.0   0.0  0.0   0.0   0.0   0.0   0.0   0.0   0.0   0.0   0.0   0.0 480.0   0.0  0.0   0.0\n",
      "V  0.0   2.5   0.0   0.0   0.0   0.0  0.0   0.0   0.0   0.0   0.0   0.0   0.0   0.0   0.0   0.0   0.0 120.0  0.0   0.0\n",
      "W  0.0   0.0   0.0   0.0   0.0   0.0  0.0   0.0   0.0   0.0   0.0   0.0   0.0   0.0   0.0   0.0   0.0   0.0 75.0   0.0\n",
      "Y  0.0   0.0   0.0   0.0   0.0   0.0  0.0   0.0   0.0   0.0   0.0   0.0   0.0   0.0   0.0   0.0   0.0   0.0  0.0 165.0\n",
      "\n"
     ]
    }
   ],
   "source": [
    "from Bio.Align import AlignInfo\n",
    "# print(align)\n",
    "\n",
    "summary_align = AlignInfo.SummaryInfo(align)\n",
    "consensus = summary_align.dumb_consensus()\n",
    "\n",
    "observed_frequencies  = align.substitutions\n",
    "\n",
    "print(observed_frequencies)"
   ]
  },
  {
   "cell_type": "code",
   "execution_count": 6,
   "metadata": {},
   "outputs": [],
   "source": [
    "mutationList = []\n",
    "haploTypeList = []\n",
    "\n",
    "# Set up List with reference sequnce\n",
    "for index, letter in enumerate(records[0].seq):\n",
    "    mutationList.append({letter: 0})"
   ]
  },
  {
   "cell_type": "code",
   "execution_count": 12,
   "metadata": {},
   "outputs": [
    {
     "name": "stdout",
     "output_type": "stream",
     "text": [
      "Postion:  1 aaSubst:  A Count:  3\n",
      "Postion:  1 aaSubst:  B Count:  3\n",
      "Postion:  1 aaSubst:  C Count:  5\n",
      "Postion:  12 aaSubst:  F Count:  3\n",
      "Postion:  361 aaSubst:  T Count:  3\n",
      "Postion:  477 aaSubst:  N Count:  3\n",
      "Postion:  490 aaSubst:  Y Count:  3\n",
      "Postion:  614 aaSubst:  G Count:  11\n",
      "Postion:  654 aaSubst:  Q Count:  3\n",
      "Postion:  762 aaSubst:  * Count:  3\n",
      "Postion:  785 aaSubst:  L Count:  2\n",
      "Postion:  807 aaSubst:  T Count:  2\n",
      "Postion:  808 aaSubst:  N Count:  2\n",
      "Postion:  1108 aaSubst:  I Count:  2\n",
      "Postion:  1110 aaSubst:  M Count:  2\n",
      "Postion:  1111 aaSubst:  N Count:  2\n",
      "Postion:  1112 aaSubst:  H Count:  2\n",
      "Postion:  1113 aaSubst:  K Count:  2\n",
      "Postion:  1114 aaSubst:  S Count:  2\n",
      "Postion:  1115 aaSubst:  L Count:  2\n",
      "Postion:  1116 aaSubst:  L Count:  2\n",
      "Postion:  1117 aaSubst:  Q Count:  2\n",
      "Postion:  1118 aaSubst:  T Count:  2\n",
      "Postion:  1119 aaSubst:  T Count:  2\n",
      "Postion:  1120 aaSubst:  H Count:  2\n",
      "Postion:  1121 aaSubst:  L Count:  2\n",
      "Postion:  1122 aaSubst:  C Count:  2\n",
      "Postion:  1123 aaSubst:  L Count:  2\n",
      "Postion:  1124 aaSubst:  V Count:  2\n",
      "Postion:  1125 aaSubst:  T Count:  2\n",
      "Postion:  1126 aaSubst:  V Count:  2\n",
      "Postion:  1127 aaSubst:  M Count:  2\n",
      "Postion:  1128 aaSubst:  L Count:  2\n",
      "Postion:  1129 aaSubst:  * Count:  2\n",
      "Postion:  1274 aaSubst:  C Count:  3\n",
      "Postion:  1275 aaSubst:  S Count:  2\n",
      "Postion:  1276 aaSubst:  C Count:  2\n",
      "Postion:  1277 aaSubst:  G Count:  2\n",
      "Postion:  1278 aaSubst:  S Count:  2\n",
      "Postion:  1279 aaSubst:  C Count:  2\n",
      "Postion:  1280 aaSubst:  C Count:  2\n",
      "Postion:  1281 aaSubst:  K Count:  2\n",
      "Postion:  1282 aaSubst:  F Count:  2\n",
      "Postion:  1283 aaSubst:  D Count:  2\n",
      "Postion:  1284 aaSubst:  E Count:  2\n",
      "Postion:  1285 aaSubst:  D Count:  2\n",
      "Postion:  1286 aaSubst:  D Count:  2\n",
      "Postion:  1287 aaSubst:  S Count:  2\n",
      "Postion:  1288 aaSubst:  E Count:  2\n",
      "Postion:  1289 aaSubst:  P Count:  2\n",
      "Postion:  1290 aaSubst:  V Count:  2\n",
      "Postion:  1291 aaSubst:  L Count:  2\n",
      "Postion:  1292 aaSubst:  K Count:  2\n",
      "Postion:  1293 aaSubst:  G Count:  2\n",
      "Postion:  1294 aaSubst:  V Count:  2\n",
      "Postion:  1295 aaSubst:  K Count:  2\n",
      "Postion:  1296 aaSubst:  L Count:  2\n",
      "Postion:  1297 aaSubst:  H Count:  2\n",
      "Postion:  1298 aaSubst:  Y Count:  2\n",
      "Postion:  1299 aaSubst:  T Count:  2\n",
      "Postion:  1300 aaSubst:  * Count:  2\n"
     ]
    }
   ],
   "source": [
    "for i in range (1, len(records)):\n",
    "    haploType = {}\n",
    "    for index, letter in enumerate(records[i].seq):\n",
    "        if index >= len(mutationList): # sequence is larger than reference and aa sub. array\n",
    "            mutationList.append({letter: 1})             \n",
    "        elif (letter not in mutationList[index]): # aa sub. seen first time       \n",
    "            mutationList[index][letter] = 1\n",
    "            haploType[index] = [letter]\n",
    "        else:   # aa sub is in the mutation list, increase aa counter\n",
    "            if (index < len(records[0].seq)): # index is in the reference range\n",
    "                if (letter != records[0].seq[index]):\n",
    "                    mutationList[index][letter] += 1\n",
    "                    haploType[index] = [letter]\n",
    "            else:\n",
    "                mutationList[index][letter] += 1\n",
    "                haploType[index] = [letter]\n",
    "        haploTypeList.append(haploType)\n",
    "\n",
    "# Print Results\n",
    "for index, position in enumerate(mutationList):\n",
    "    for aa in  position.keys():\n",
    "        if position[aa] != 0:\n",
    "            print(\"Postion: \", index+1, \"aaSubst: \", aa, \"Count: \", position[aa] )  "
   ]
  },
  {
   "cell_type": "code",
   "execution_count": 41,
   "metadata": {},
   "outputs": [],
   "source": []
  },
  {
   "cell_type": "code",
   "execution_count": null,
   "metadata": {},
   "outputs": [],
   "source": []
  },
  {
   "cell_type": "code",
   "execution_count": null,
   "metadata": {},
   "outputs": [],
   "source": [
    "# Print Results\n",
    "import csv\n",
    "import sys\n",
    "\n",
    "header = ['Postion', 'aaSubst', 'Count']\n",
    "\n",
    "with open('mutations.csv', 'w', encoding='UTF8', newline='') as f:\n",
    "    writer = csv.writer(f)\n",
    "    writer.writerow(header)\n",
    "\n",
    "    for index, position in enumerate(mutationList):\n",
    "        for aa in  position.keys():\n",
    "            if position[aa] != 0:\n",
    "                print(\"Postion: \", index+1, \"aaSubst: \", aa, \"Count: \", position[aa])\n",
    "                writer.writerow([index+1, aa, position[aa]])\n",
    "\n",
    "\n",
    "\n",
    "print(\"AA substitition counts saved at \")  \n",
    "\n",
    "now = datetime.now()\n",
    "current_time = now.strftime(\"%H:%M:%S\")\n",
    "print(\"Current Time =\", current_time)"
   ]
  },
  {
   "cell_type": "code",
   "execution_count": 11,
   "metadata": {},
   "outputs": [],
   "source": [
    "# Save result object in a file\n",
    "import pickle\n",
    "\n",
    "with open('sequence_data.pkl', 'wb') as outp:\n",
    "    pickle.dump(mutationList, outp, -1)"
   ]
  },
  {
   "cell_type": "code",
   "execution_count": null,
   "metadata": {},
   "outputs": [],
   "source": [
    "#\n",
    "with open('sequence_data.pkl', 'rb') as inp:\n",
    "    mutationListLoaded = pickle.load(inp)\n",
    "\n",
    "    # Print Results\n",
    "for index, position in enumerate(mutationListLoaded):\n",
    "    for aa in  position.keys():\n",
    "        if position[aa] != 0:\n",
    "            print(\"Postion: \", index+1, \"aaSubst: \", aa, \"Count: \", position[aa] )  "
   ]
  }
 ],
 "metadata": {
  "interpreter": {
   "hash": "31f2aee4e71d21fbe5cf8b01ff0e069b9275f58929596ceb00d14d90e3e16cd6"
  },
  "kernelspec": {
   "display_name": "Python 3.10.4 64-bit",
   "language": "python",
   "name": "python3"
  },
  "language_info": {
   "codemirror_mode": {
    "name": "ipython",
    "version": 3
   },
   "file_extension": ".py",
   "mimetype": "text/x-python",
   "name": "python",
   "nbconvert_exporter": "python",
   "pygments_lexer": "ipython3",
   "version": "3.10.4"
  },
  "orig_nbformat": 4
 },
 "nbformat": 4,
 "nbformat_minor": 2
}
