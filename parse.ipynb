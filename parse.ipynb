{
 "cells": [
  {
   "cell_type": "code",
   "execution_count": 13,
   "metadata": {},
   "outputs": [],
   "source": [
    "# Author: Edgars Liepa\n",
    "# Date: 6.5.22 \n",
    "# Descripton: Create a list of amino acid substitutions from multiple sequences \n",
    "# in single fasta file.\n",
    "# Programm firstly creates pairvise allignment to reference sequnce \n",
    "# and then counts changed positions\n",
    "# \n",
    "# Dependencies: BioPython "
   ]
  },
  {
   "cell_type": "code",
   "execution_count": 1,
   "metadata": {},
   "outputs": [],
   "source": [
    "from Bio import SeqIO\n",
    "from datetime import datetime"
   ]
  },
  {
   "cell_type": "code",
   "execution_count": 2,
   "metadata": {},
   "outputs": [],
   "source": [
    "records = list(SeqIO.parse(\"spike.aln\", \"fasta\"))"
   ]
  },
  {
   "cell_type": "code",
   "execution_count": 3,
   "metadata": {},
   "outputs": [
    {
     "name": "stdout",
     "output_type": "stream",
     "text": [
      "Spike|hCoV-19/Wuhan/WIV04/2019|2019-12-30|EPI_ISL_402124|Original|hCoV-19^^Hubei|Human|Wuhan\n",
      "Spike|hCoV-19/Wuhan/WIV04/2019|2019-12-30|EPI_ISL_402124|Original|hCoV-19^^Hubei|Human|Wuhan Jinyintan Hospital|Wuhan Institute of Virology|Shi|China\n"
     ]
    }
   ],
   "source": [
    "# This is my reference\n",
    "print(records[0].id)  # first record\n",
    "print(records[0].description)"
   ]
  },
  {
   "cell_type": "code",
   "execution_count": 6,
   "metadata": {},
   "outputs": [],
   "source": [
    "mutationList = []\n",
    "haploTypeList = []\n",
    "\n",
    "# Set up List with reference sequnce\n",
    "for index, letter in enumerate(records[0].seq):\n",
    "    mutationList.append({letter: 0})"
   ]
  },
  {
   "cell_type": "code",
   "execution_count": 7,
   "metadata": {},
   "outputs": [
    {
     "name": "stdout",
     "output_type": "stream",
     "text": [
      "{0: ['A'], 11: ['F'], 489: ['Y'], 613: ['G']}\n",
      "{0: ['B'], 360: ['T'], 613: ['G'], 653: ['Q'], 761: ['*']}\n",
      "{0: ['C'], 476: ['N'], 613: ['G']}\n",
      "{0: ['C'], 613: ['G'], 784: ['L'], 806: ['T'], 807: ['N'], 1107: ['I'], 1109: ['M'], 1110: ['N'], 1111: ['H'], 1112: ['K'], 1113: ['S'], 1114: ['L'], 1115: ['L'], 1116: ['Q'], 1117: ['T'], 1118: ['T'], 1119: ['H'], 1120: ['L'], 1121: ['C'], 1122: ['L'], 1123: ['V'], 1124: ['T'], 1125: ['V'], 1126: ['M'], 1127: ['L'], 1128: ['*']}\n",
      "Postion:  1 aaSubst:  A Count:  1\n",
      "Postion:  1 aaSubst:  B Count:  1\n",
      "Postion:  1 aaSubst:  C Count:  2\n",
      "Postion:  12 aaSubst:  F Count:  1\n",
      "Postion:  361 aaSubst:  T Count:  1\n",
      "Postion:  477 aaSubst:  N Count:  1\n",
      "Postion:  490 aaSubst:  Y Count:  1\n",
      "Postion:  614 aaSubst:  G Count:  4\n",
      "Postion:  654 aaSubst:  Q Count:  1\n",
      "Postion:  762 aaSubst:  * Count:  1\n",
      "Postion:  785 aaSubst:  L Count:  1\n",
      "Postion:  807 aaSubst:  T Count:  1\n",
      "Postion:  808 aaSubst:  N Count:  1\n",
      "Postion:  1108 aaSubst:  I Count:  1\n",
      "Postion:  1110 aaSubst:  M Count:  1\n",
      "Postion:  1111 aaSubst:  N Count:  1\n",
      "Postion:  1112 aaSubst:  H Count:  1\n",
      "Postion:  1113 aaSubst:  K Count:  1\n",
      "Postion:  1114 aaSubst:  S Count:  1\n",
      "Postion:  1115 aaSubst:  L Count:  1\n",
      "Postion:  1116 aaSubst:  L Count:  1\n",
      "Postion:  1117 aaSubst:  Q Count:  1\n",
      "Postion:  1118 aaSubst:  T Count:  1\n",
      "Postion:  1119 aaSubst:  T Count:  1\n",
      "Postion:  1120 aaSubst:  H Count:  1\n",
      "Postion:  1121 aaSubst:  L Count:  1\n",
      "Postion:  1122 aaSubst:  C Count:  1\n",
      "Postion:  1123 aaSubst:  L Count:  1\n",
      "Postion:  1124 aaSubst:  V Count:  1\n",
      "Postion:  1125 aaSubst:  T Count:  1\n",
      "Postion:  1126 aaSubst:  V Count:  1\n",
      "Postion:  1127 aaSubst:  M Count:  1\n",
      "Postion:  1128 aaSubst:  L Count:  1\n",
      "Postion:  1129 aaSubst:  * Count:  1\n"
     ]
    }
   ],
   "source": [
    "for i in range (1, len(records)):\n",
    "    haploType = {}\n",
    "    for index, letter in enumerate(records[i].seq):\n",
    "        if (letter not in mutationList[index]):       \n",
    "            mutationList[index][letter] = 1\n",
    "            haploType[index] = [letter]\n",
    "        elif (letter != records[0].seq[index]):\n",
    "            mutationList[index][letter] += 1\n",
    "            haploType[index] = [letter]\n",
    "        haploTypeList.append(haploType)\n",
    "    print(haploType)  \n",
    "\n",
    "# Print Results\n",
    "for index, position in enumerate(mutationList):\n",
    "    for aa in  position.keys():\n",
    "        if position[aa] != 0:\n",
    "            print(\"Postion: \", index+1, \"aaSubst: \", aa, \"Count: \", position[aa] )  "
   ]
  },
  {
   "cell_type": "code",
   "execution_count": null,
   "metadata": {},
   "outputs": [],
   "source": [
    "# Print Results\n",
    "import csv\n",
    "import sys\n",
    "\n",
    "header = ['Postion', 'aaSubst', 'Count']\n",
    "\n",
    "with open('mutations.csv', 'w', encoding='UTF8', newline='') as f:\n",
    "    writer = csv.writer(f)\n",
    "    writer.writerow(header)\n",
    "\n",
    "    for index, position in enumerate(mutationList):\n",
    "        for aa in  position.keys():\n",
    "            if position[aa] != 0:\n",
    "                print(\"Postion: \", index+1, \"aaSubst: \", aa, \"Count: \", position[aa])\n",
    "                writer.writerow([index+1, aa, position[aa]])\n",
    "\n",
    "\n",
    "\n",
    "print(\"AA substitition counts saved at \")  \n",
    "\n",
    "now = datetime.now()\n",
    "current_time = now.strftime(\"%H:%M:%S\")\n",
    "print(\"Current Time =\", current_time)"
   ]
  }
 ],
 "metadata": {
  "interpreter": {
   "hash": "31f2aee4e71d21fbe5cf8b01ff0e069b9275f58929596ceb00d14d90e3e16cd6"
  },
  "kernelspec": {
   "display_name": "Python 3.10.4 64-bit",
   "language": "python",
   "name": "python3"
  },
  "language_info": {
   "codemirror_mode": {
    "name": "ipython",
    "version": 3
   },
   "file_extension": ".py",
   "mimetype": "text/x-python",
   "name": "python",
   "nbconvert_exporter": "python",
   "pygments_lexer": "ipython3",
   "version": "3.10.4"
  },
  "orig_nbformat": 4
 },
 "nbformat": 4,
 "nbformat_minor": 2
}
